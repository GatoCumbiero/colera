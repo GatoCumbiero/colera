{
 "cells": [
  {
   "cell_type": "code",
   "execution_count": null,
   "id": "c1e6e165",
   "metadata": {},
   "outputs": [],
   "source": [
    "import pickle\n",
    "from datetime import datetime\n",
    "import numpy as np\n",
    "from qutip import *\n",
    "import os\n",
    "from matplotlib import pyplot as plt\n",
    "import sys\n",
    "from scipy.integrate import solve_ivp\n",
    "\n",
    "\n",
    "def load_all_dynamics(filepath):\n",
    "    \"\"\"\n",
    "    Load multi-dynamics from saved file\n",
    "    \"\"\"\n",
    "    with open(filepath, 'rb') as f:\n",
    "        loaded_data = pickle.load(f)\n",
    "    \n",
    "    print(f\"Multi-dynamics loaded from: {filepath}\", flush=True)\n",
    "    print(f\"Description: {loaded_data['description']}\", flush=True)\n",
    "    print(f\"Timestamp: {loaded_data['timestamp']}\", flush=True)\n",
    "    \n",
    "    return (loaded_data['full_dynamics'], \n",
    "            loaded_data['redfield_dynamics'], \n",
    "            loaded_data['rates_dynamics'], \n",
    "            loaded_data['parameters'])\n",
    "\n",
    "def plot_dynamics_from_file(filepath):\n",
    "    \"\"\"\n",
    "    Plot dynamics from a saved file given the full file path\n",
    "    \"\"\"\n",
    "    # Load the dynamics\n",
    "    full_dynamics, redfield_dynamics, rates_dynamics, parameters = load_all_dynamics(filepath)\n",
    "    \n",
    "    # Extract parameters for plotting\n",
    "    N = parameters['N']\n",
    "    final_time__mus = parameters['final_time__mus']\n",
    "    time_steps = parameters['time_steps']\n",
    "    rabi_freq = parameters['rabi_freq']\n",
    "    cavity_diss_rate = parameters['cavity_diss_rate']\n",
    "    eff_coupling = parameters['eff_coupling']\n",
    "    \n",
    "    # Calculate expectation values\n",
    "    x_hamiltonian7 = expect(tensor(qeye(N), sigmax()), full_dynamics)\n",
    "    z_hamiltonian7 = expect(tensor(qeye(N), sigmaz()), full_dynamics)\n",
    "    x_redfield = expect(sigmax(), redfield_dynamics)\n",
    "    z_redfield = expect(sigmaz(), redfield_dynamics)\n",
    "    x_rates = expect(sigmax(), rates_dynamics)\n",
    "    z_rates = expect(sigmaz(), rates_dynamics)\n",
    "    cavity_occupation = expect(tensor(destroy(N).dag() * destroy(N), qeye(2)), full_dynamics)\n",
    "\n",
    "    tlist = np.linspace(0, final_time__mus, time_steps)\n",
    "\n",
    "    fig, axes = plt.subplots(3, 1, figsize=(4, 8))\n",
    "    \n",
    "    # Qubit sigma_x\n",
    "    axes[0].plot(tlist, x_redfield, color='#008000', label=\"Redfield\")\n",
    "    axes[0].plot(tlist, x_hamiltonian7, color='#000080', label=\"Hamiltonian 7\")\n",
    "    axes[0].plot(tlist, x_rates, color='#800000', label=\"Rates\")\n",
    "    axes[0].set_ylabel(r'$ <\\sigma_x >$')\n",
    "    axes[0].legend()\n",
    "    axes[0].set_ylim(-1.1, 1.1)\n",
    "\n",
    "    # Qubit sigma_z\n",
    "    axes[1].plot(tlist, z_redfield, color='#008000', label=\"Redfield\")\n",
    "    axes[1].plot(tlist, z_hamiltonian7, color='#000080', label=\"Hamiltonian 7\")\n",
    "    axes[1].plot(tlist, z_rates, color='#800000', label=\"Rates\")\n",
    "    axes[1].set_ylabel(r'$<\\sigma_z >$')\n",
    "    axes[1].legend()\n",
    "    axes[1].set_ylim(-1.1, 1.1)\n",
    "    \n",
    "    # Cavity occupation\n",
    "    axes[2].plot(tlist, cavity_occupation, color='#FF8C00', label=\"Cavity Occupation\", linewidth=2)\n",
    "    axes[2].set_ylabel(r'$ \\langle a^\\dagger a \\rangle $')\n",
    "    axes[2].set_xlabel('Time (μs)')\n",
    "    axes[2].legend()\n",
    "    axes[2].set_ylim(bottom=0)\n",
    "\n",
    "    params_text = []\n",
    "    params_text.append(f\"Rabi: {rabi_freq/(2*np.pi*1e6):.1f} MHz\")\n",
    "    params_text.append(f\"κ: {cavity_diss_rate/(2*np.pi*1e6):.1f} MHz\")\n",
    "    params_text.append(f\"g: {eff_coupling/(2*np.pi*1e6):.1f} MHz\")\n",
    "\n",
    "    plt.suptitle(' | '.join(params_text), y=0.98)\n",
    "    plt.tight_layout()\n",
    "    plt.show()"
   ]
  },
  {
   "cell_type": "code",
   "execution_count": null,
   "id": "35e41fc2",
   "metadata": {},
   "outputs": [
    {
     "name": "stdout",
     "output_type": "stream",
     "text": [
      "Error: No file found for kappa = 1.0 MHz in comparison_dynamics/comparison_dynamics/saved_kappa_sweep\n"
     ]
    }
   ],
   "source": [
    "plot_dynamics_from_file(\"comparison_dynamics/comparison_dynamics/saved_eff_coupling_sweep/eff_coupling_0.5MHz_20251022_190759.pkl\")"
   ]
  },
  {
   "cell_type": "code",
   "execution_count": null,
   "id": "09c67155",
   "metadata": {},
   "outputs": [
    {
     "name": "stdout",
     "output_type": "stream",
     "text": [
      "Current working directory: /home/saha/Desktop/tesis/colera/ratesvsredfield\n"
     ]
    }
   ],
   "source": []
  },
  {
   "cell_type": "code",
   "execution_count": null,
   "id": "77fbb9a0",
   "metadata": {},
   "outputs": [
    {
     "name": "stdout",
     "output_type": "stream",
     "text": [
      "For eff_coupling sweep files:\n"
     ]
    },
    {
     "data": {
      "application/vnd.jupyter.widget-view+json": {
       "model_id": "ea010520956a468cada246539932cc8b",
       "version_major": 2,
       "version_minor": 0
      },
      "text/plain": [
       "Dropdown(description='Select file:', options=('eff_coupling_1.0MHz_20251022_191258.pkl', 'eff_coupling_0.5MHz_…"
      ]
     },
     "metadata": {},
     "output_type": "display_data"
    },
    {
     "data": {
      "application/vnd.jupyter.widget-view+json": {
       "model_id": "7651d3e36c994233a226d096d273aa16",
       "version_major": 2,
       "version_minor": 0
      },
      "text/plain": [
       "Button(description='Load Selected File', style=ButtonStyle())"
      ]
     },
     "metadata": {},
     "output_type": "display_data"
    },
    {
     "data": {
      "application/vnd.jupyter.widget-view+json": {
       "model_id": "ef362e917dc549d0863113587def032b",
       "version_major": 2,
       "version_minor": 0
      },
      "text/plain": [
       "Output()"
      ]
     },
     "metadata": {},
     "output_type": "display_data"
    },
    {
     "name": "stdout",
     "output_type": "stream",
     "text": [
      "\n",
      "For kappa sweep files:\n"
     ]
    },
    {
     "ename": "FileNotFoundError",
     "evalue": "[Errno 2] No such file or directory: './saved_kappa_sweep'",
     "output_type": "error",
     "traceback": [
      "\u001b[31m---------------------------------------------------------------------------\u001b[39m",
      "\u001b[31mFileNotFoundError\u001b[39m                         Traceback (most recent call last)",
      "\u001b[36mCell\u001b[39m\u001b[36m \u001b[39m\u001b[32mIn[24]\u001b[39m\u001b[32m, line 159\u001b[39m\n\u001b[32m    156\u001b[39m interactive_file_selector(\u001b[33m\"\u001b[39m\u001b[33mcomparison_dynamics/comparison_dynamics/saved_eff_coupling_sweep\u001b[39m\u001b[33m\"\u001b[39m)\n\u001b[32m    158\u001b[39m \u001b[38;5;28mprint\u001b[39m(\u001b[33m\"\u001b[39m\u001b[38;5;130;01m\\n\u001b[39;00m\u001b[33mFor kappa sweep files:\u001b[39m\u001b[33m\"\u001b[39m)\n\u001b[32m--> \u001b[39m\u001b[32m159\u001b[39m \u001b[43minteractive_file_selector\u001b[49m\u001b[43m(\u001b[49m\u001b[33;43m\"\u001b[39;49m\u001b[33;43m./saved_kappa_sweep\u001b[39;49m\u001b[33;43m\"\u001b[39;49m\u001b[43m)\u001b[49m\n",
      "\u001b[36mCell\u001b[39m\u001b[36m \u001b[39m\u001b[32mIn[24]\u001b[39m\u001b[32m, line 65\u001b[39m, in \u001b[36minteractive_file_selector\u001b[39m\u001b[34m(directory_path)\u001b[39m\n\u001b[32m     63\u001b[39m \u001b[38;5;250m\u001b[39m\u001b[33;03m\"\"\"Create an interactive dropdown to select files\"\"\"\u001b[39;00m\n\u001b[32m     64\u001b[39m \u001b[38;5;66;03m# Get all pkl files\u001b[39;00m\n\u001b[32m---> \u001b[39m\u001b[32m65\u001b[39m pkl_files = [f \u001b[38;5;28;01mfor\u001b[39;00m f \u001b[38;5;129;01min\u001b[39;00m \u001b[43mos\u001b[49m\u001b[43m.\u001b[49m\u001b[43mlistdir\u001b[49m\u001b[43m(\u001b[49m\u001b[43mdirectory_path\u001b[49m\u001b[43m)\u001b[49m \u001b[38;5;28;01mif\u001b[39;00m f.endswith(\u001b[33m'\u001b[39m\u001b[33m.pkl\u001b[39m\u001b[33m'\u001b[39m)]\n\u001b[32m     67\u001b[39m \u001b[38;5;28;01mif\u001b[39;00m \u001b[38;5;129;01mnot\u001b[39;00m pkl_files:\n\u001b[32m     68\u001b[39m     \u001b[38;5;28mprint\u001b[39m(\u001b[33m\"\u001b[39m\u001b[33mNo .pkl files found in directory\u001b[39m\u001b[33m\"\u001b[39m)\n",
      "\u001b[31mFileNotFoundError\u001b[39m: [Errno 2] No such file or directory: './saved_kappa_sweep'"
     ]
    }
   ],
   "source": [
    "\n",
    "\n"
   ]
  },
  {
   "cell_type": "code",
   "execution_count": null,
   "id": "bd3d775e",
   "metadata": {},
   "outputs": [],
   "source": []
  }
 ],
 "metadata": {
  "kernelspec": {
   "display_name": "base",
   "language": "python",
   "name": "python3"
  },
  "language_info": {
   "codemirror_mode": {
    "name": "ipython",
    "version": 3
   },
   "file_extension": ".py",
   "mimetype": "text/x-python",
   "name": "python",
   "nbconvert_exporter": "python",
   "pygments_lexer": "ipython3",
   "version": "3.12.2"
  }
 },
 "nbformat": 4,
 "nbformat_minor": 5
}
